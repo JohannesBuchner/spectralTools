{
 "metadata": {
  "name": ""
 },
 "nbformat": 3,
 "nbformat_minor": 0,
 "worksheets": [
  {
   "cells": [
    {
     "cell_type": "code",
     "collapsed": false,
     "input": [
      "from tteBinning import tteBinning"
     ],
     "language": "python",
     "metadata": {},
     "outputs": [],
     "prompt_number": 1
    },
    {
     "cell_type": "code",
     "collapsed": false,
     "input": [
      "tb= tteBinning(\"glg_tte_n6_bn110721200_v00.fit\",-10.,20.,bkgIntervals=[[-50.,-1.],[80.,300.]])"
     ],
     "language": "python",
     "metadata": {},
     "outputs": [],
     "prompt_number": 2
    },
    {
     "cell_type": "code",
     "collapsed": false,
     "input": [
      "#tb._MakeBackgroundSelections()\n",
      "#tb._FitBackground()\n",
      "tb.MakeHardnessBlocks([100.,300.],[300.,500.],1.)"
     ],
     "language": "python",
     "metadata": {},
     "outputs": [
      {
       "output_type": "stream",
       "stream": "stdout",
       "text": [
        "Optimization terminated successfully.\n",
        "         Current function value: -13818.200303\n",
        "         Iterations: 17\n",
        "         Function evaluations: 48\n",
        "\n",
        "Looking for optimal polynomial grade:\n",
        "\n",
        "delta log-likelihoods:"
       ]
      },
      {
       "output_type": "stream",
       "stream": "stdout",
       "text": [
        "\n",
        "0 -> 1: delta Log-likelihood = 381.952931034\n",
        "1 -> 2: delta Log-likelihood = 0.0541347123799\n",
        "2 -> 3: delta Log-likelihood = 40.0093091831\n",
        "3 -> 4: delta Log-likelihood = 0.824615240446\n",
        "\n",
        "Optimal poly grade: 3\n",
        "655"
       ]
      },
      {
       "output_type": "stream",
       "stream": "stdout",
       "text": [
        "\n",
        "10"
       ]
      },
      {
       "output_type": "stream",
       "stream": "stdout",
       "text": [
        "\n"
       ]
      }
     ],
     "prompt_number": 9
    },
    {
     "cell_type": "code",
     "collapsed": false,
     "input": [
      "tb.Preview()"
     ],
     "language": "python",
     "metadata": {},
     "outputs": [
      {
       "metadata": {},
       "output_type": "display_data",
       "png": "[encoded data removed]",
       "text": [
        "<matplotlib.figure.Figure at 0x1142552d0>"
       ]
      }
     ],
     "prompt_number": 10
    },
    {
     "cell_type": "code",
     "collapsed": false,
     "input": [
      "log10(.001)"
     ],
     "language": "python",
     "metadata": {},
     "outputs": [
      {
       "metadata": {},
       "output_type": "pyout",
       "prompt_number": 11,
       "text": [
        "-3.0"
       ]
      }
     ],
     "prompt_number": 11
    },
    {
     "cell_type": "code",
     "collapsed": false,
     "input": [],
     "language": "python",
     "metadata": {},
     "outputs": []
    }
   ],
   "metadata": {}
  }
 ]
}